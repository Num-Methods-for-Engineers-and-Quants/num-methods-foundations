{
 "cells": [
  {
   "metadata": {},
   "cell_type": "markdown",
   "source": "## Round Off Errors",
   "id": "5f91d56c4c87c4e8"
  },
  {
   "metadata": {},
   "cell_type": "markdown",
   "source": [
    "### Problem Statement:\n",
    "Consider the two nearly equal numbers p = 9890.9 and q = 9887.1.  Use decimal floating point representation (scientific notation) with three significant digits in the mantissa to calculate the difference between the numbers (p - q).  Do the calculation first by using chopping and then by using rounding."
   ],
   "id": "3d9fc45fdee8f8d5"
  },
  {
   "metadata": {},
   "cell_type": "markdown",
   "source": "#### Chopping",
   "id": "cd7bcda68ae668ab"
  },
  {
   "cell_type": "code",
   "id": "initial_id",
   "metadata": {
    "collapsed": true,
    "ExecuteTime": {
     "end_time": "2025-05-15T02:35:27.978584Z",
     "start_time": "2025-05-15T02:35:27.970643Z"
    }
   },
   "source": [
    "import math\n",
    "p = 9890.9\n",
    "q = 9887.1\n",
    "p_chop = math.trunc(p)\n",
    "q_chop = math.trunc(q)\n",
    "\n",
    "diff_chop = p_chop - q_chop\n",
    "diff = p - q\n",
    "\n",
    "print(f\"Using trunc with the math import, p - q => {p_chop:.2e} - {q_chop:.2e} = {diff_chop:.2e}\")\n"
   ],
   "outputs": [
    {
     "name": "stdout",
     "output_type": "stream",
     "text": [
      "Using trunc with the math import, p - q => 9.89e+03 - 9.89e+03 = 3.00e+00\n"
     ]
    }
   ],
   "execution_count": 14
  },
  {
   "metadata": {},
   "cell_type": "markdown",
   "source": "#### How to convert to scientific notation",
   "id": "c28b4d2622321cb5"
  },
  {
   "metadata": {
    "ExecuteTime": {
     "end_time": "2025-05-15T00:58:30.375582Z",
     "start_time": "2025-05-15T00:58:30.369126Z"
    }
   },
   "cell_type": "code",
   "source": [
    "number = 1234.5678\n",
    "print(f\"{number:e}\")  # Output: 1.234568e+03"
   ],
   "id": "37e312721189ab60",
   "outputs": [
    {
     "name": "stdout",
     "output_type": "stream",
     "text": [
      "1.234568e+03\n"
     ]
    }
   ],
   "execution_count": 5
  },
  {
   "metadata": {},
   "cell_type": "markdown",
   "source": "### Rounding",
   "id": "7b509f5ec7361dc7"
  },
  {
   "metadata": {
    "ExecuteTime": {
     "end_time": "2025-05-15T02:34:54.504675Z",
     "start_time": "2025-05-15T02:34:54.499120Z"
    }
   },
   "cell_type": "code",
   "source": [
    "p_round = round(p, 2)\n",
    "q_round = round(q, 2)\n",
    "\n",
    "diff_round = p_round - q_round\n",
    "\n",
    "print(f\"Using round with the math import, p - q => {p_round:.2e} - {q_round:.2e} = {diff_round:.2e}\")"
   ],
   "id": "2a99925b34afe99",
   "outputs": [
    {
     "name": "stdout",
     "output_type": "stream",
     "text": [
      "Using round with the math import, p - q => 9.89e+03 - 9.89e+03 = 3.80e+00\n"
     ]
    }
   ],
   "execution_count": 13
  },
  {
   "metadata": {},
   "cell_type": "code",
   "outputs": [],
   "execution_count": null,
   "source": "",
   "id": "cc6788ea9cc8f2f3"
  }
 ],
 "metadata": {
  "kernelspec": {
   "display_name": "Python 3",
   "language": "python",
   "name": "python3"
  },
  "language_info": {
   "codemirror_mode": {
    "name": "ipython",
    "version": 2
   },
   "file_extension": ".py",
   "mimetype": "text/x-python",
   "name": "python",
   "nbconvert_exporter": "python",
   "pygments_lexer": "ipython2",
   "version": "2.7.6"
  }
 },
 "nbformat": 4,
 "nbformat_minor": 5
}
