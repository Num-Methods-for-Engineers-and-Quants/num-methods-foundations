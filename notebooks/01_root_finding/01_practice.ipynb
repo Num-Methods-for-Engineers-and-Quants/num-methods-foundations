{
 "cells": [
  {
   "metadata": {},
   "cell_type": "markdown",
   "source": "## Round Off Errors",
   "id": "5f91d56c4c87c4e8"
  },
  {
   "metadata": {},
   "cell_type": "markdown",
   "source": [
    "### Problem Statement:\n",
    "Consider the two nearly equal numbers p = 9890.9 and q = 9887.1.  Use decimal floating point representation (scientific notation) with three significant digits in the mantissa to calculate the difference between the numbers (p - q).  Do the calculation first by using chopping and then by using rounding."
   ],
   "id": "3d9fc45fdee8f8d5"
  },
  {
   "metadata": {},
   "cell_type": "markdown",
   "source": "#### Chopping",
   "id": "cd7bcda68ae668ab"
  },
  {
   "cell_type": "code",
   "id": "initial_id",
   "metadata": {
    "collapsed": true,
    "ExecuteTime": {
     "end_time": "2025-05-24T03:55:41.417036Z",
     "start_time": "2025-05-24T03:55:41.408986Z"
    }
   },
   "source": [
    "import math\n",
    "p = 9890.9\n",
    "q = 9887.1\n",
    "p_chop = math.trunc(p)\n",
    "q_chop = math.trunc(q)\n",
    "\n",
    "diff_chop = p_chop - q_chop\n",
    "diff = p - q\n",
    "\n",
    "print(f\"Using trunc with the math import, p - q => {p_chop:.2e} - {q_chop:.2e} = {diff_chop:.2e}\")\n"
   ],
   "outputs": [
    {
     "name": "stdout",
     "output_type": "stream",
     "text": [
      "Using trunc with the math import, p - q => 9.89e+03 - 9.89e+03 = 3.00e+00\n"
     ]
    }
   ],
   "execution_count": 5
  },
  {
   "metadata": {},
   "cell_type": "markdown",
   "source": "#### How to convert to scientific notation",
   "id": "c28b4d2622321cb5"
  },
  {
   "metadata": {
    "ExecuteTime": {
     "end_time": "2025-05-24T03:55:41.467819Z",
     "start_time": "2025-05-24T03:55:41.459831Z"
    }
   },
   "cell_type": "code",
   "source": [
    "number = 1234.5678\n",
    "print(f\"{number:e}\")  # Output: 1.234568e+03"
   ],
   "id": "37e312721189ab60",
   "outputs": [
    {
     "name": "stdout",
     "output_type": "stream",
     "text": [
      "1.234568e+03\n"
     ]
    }
   ],
   "execution_count": 6
  },
  {
   "metadata": {},
   "cell_type": "markdown",
   "source": "### Rounding",
   "id": "7b509f5ec7361dc7"
  },
  {
   "metadata": {
    "ExecuteTime": {
     "end_time": "2025-05-24T03:55:41.552153Z",
     "start_time": "2025-05-24T03:55:41.543642Z"
    }
   },
   "cell_type": "code",
   "source": [
    "p_round = round(p, 2)\n",
    "q_round = round(q, 2)\n",
    "\n",
    "diff_round = p_round - q_round\n",
    "\n",
    "print(f\"Using round with the math import, p - q => {p_round:.2e} - {q_round:.2e} = {diff_round:.2e}\")"
   ],
   "id": "2a99925b34afe99",
   "outputs": [
    {
     "name": "stdout",
     "output_type": "stream",
     "text": [
      "Using round with the math import, p - q => 9.89e+03 - 9.89e+03 = 3.80e+00\n"
     ]
    }
   ],
   "execution_count": 7
  },
  {
   "metadata": {
    "ExecuteTime": {
     "end_time": "2025-05-24T03:55:41.632616Z",
     "start_time": "2025-05-24T03:55:41.622214Z"
    }
   },
   "cell_type": "code",
   "source": [
    "# f(x) = 3x^2 - x + 4\n",
    "# f_prime(x) = 6x -1\n",
    "import importlib\n",
    "import src.utils.root_finding.helper.derivative as deriv_module\n",
    "import src.utils.root_finding.helper.derivative as deriv\n",
    "importlib.reload(deriv_module)\n",
    "from importlib import reload\n",
    "\n",
    "# Reload the module before using\n",
    "reload(deriv)\n",
    "\n",
    "# Define polynomial coefficients\n",
    "f = [3, -1, 4]\n",
    "\n",
    "print(deriv.derivative(f))\n"
   ],
   "id": "cc6788ea9cc8f2f3",
   "outputs": [
    {
     "name": "stdout",
     "output_type": "stream",
     "text": [
      "[6, -1]\n"
     ]
    }
   ],
   "execution_count": 8
  },
  {
   "metadata": {
    "ExecuteTime": {
     "end_time": "2025-05-24T04:53:41.701177Z",
     "start_time": "2025-05-24T04:53:41.690154Z"
    }
   },
   "cell_type": "code",
   "source": [
    "\n",
    "# First, clear everything\n",
    "import sys\n",
    "import importlib\n",
    "\n",
    "# Remove all relevant modules\n",
    "modules_to_remove = [\n",
    "    'src.utils.root_finding.helper.power',\n",
    "    'src.utils.root_finding.helper',\n",
    "    'src.utils.root_finding',\n",
    "    'src.utils',\n",
    "    'src'\n",
    "]\n",
    "\n",
    "for module in modules_to_remove:\n",
    "    if module in sys.modules:\n",
    "        del sys.modules[module]\n",
    "\n",
    "# Now import fresh\n",
    "import src.utils.root_finding.helper.eval_func as power_module\n",
    "\n",
    "importlib.reload(power_module)\n",
    "from src.utils.root_finding.helper.eval_func import eval_func\n",
    "\n"
   ],
   "id": "9ac39de97ef1063a",
   "outputs": [],
   "execution_count": 23
  },
  {
   "metadata": {
    "ExecuteTime": {
     "end_time": "2025-05-24T04:54:17.738886Z",
     "start_time": "2025-05-24T04:54:17.732488Z"
    }
   },
   "cell_type": "code",
   "source": [
    "\n",
    "# Test the function\n",
    "coef = [1, 0, -1, -2]\n",
    "print(eval_func(coef, 3))"
   ],
   "id": "4664375afbe35832",
   "outputs": [
    {
     "name": "stdout",
     "output_type": "stream",
     "text": [
      "22\n"
     ]
    }
   ],
   "execution_count": 24
  }
 ],
 "metadata": {
  "kernelspec": {
   "display_name": "Python 3",
   "language": "python",
   "name": "python3"
  },
  "language_info": {
   "codemirror_mode": {
    "name": "ipython",
    "version": 2
   },
   "file_extension": ".py",
   "mimetype": "text/x-python",
   "name": "python",
   "nbconvert_exporter": "python",
   "pygments_lexer": "ipython2",
   "version": "2.7.6"
  }
 },
 "nbformat": 4,
 "nbformat_minor": 5
}
